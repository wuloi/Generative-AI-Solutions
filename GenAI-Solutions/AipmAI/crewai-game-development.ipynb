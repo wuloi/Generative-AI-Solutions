{
 "cells": [
  {
   "cell_type": "markdown",
   "metadata": {},
   "source": [
    "# Initializing LLM"
   ]
  },
  {
   "cell_type": "code",
   "execution_count": 1,
   "metadata": {},
   "outputs": [],
   "source": [
    "import os\n",
    "from dotenv import load_dotenv\n",
    "load_dotenv()\n",
    "from langchain_google_genai import ChatGoogleGenerativeAI\n",
    "# 初始化聊天型语言模型，使用 Google 的 gemini-1.5-pro 模型\n",
    "llm = ChatGoogleGenerativeAI(\n",
    "    model=\"gemini-1.5-pro\",\n",
    "    temperature=0,          # 控制生成文本的随机性，0 表示最确定性\n",
    "    max_tokens=None,       # 生成的最大 token 数量，None 表示没有限制\n",
    "    timeout=None,          # 请求超时时间，None 表示没有限制\n",
    "    max_retries=2,         # 最大重试次数\n",
    "    # 其他参数...\n",
    ")\n",
    "\n"
   ]
  },
  {
   "cell_type": "markdown",
   "metadata": {},
   "source": [
    "# Initializing tools and agents"
   ]
  },
  {
   "cell_type": "code",
   "execution_count": 2,
   "metadata": {},
   "outputs": [],
   "source": [
    "from langchain.agents import Tool\n",
    "from langchain.utilities import GoogleSerperAPIWrapper"
   ]
  },
  {
   "cell_type": "code",
   "execution_count": 3,
   "metadata": {},
   "outputs": [],
   "source": [
    "os.environ[\"SERPER_API_KEY\"] = os.getenv(\"SERPER_API_KEY\")\n",
    "search_tool = GoogleSerperAPIWrapper()\n",
    "\n",
    "serper_tool = Tool(\n",
    "  name=\"Intermediate Answer\",\n",
    "  func=search_tool.run,\n",
    "  description=\"Useful for search-based queries\",\n",
    ")"
   ]
  },
  {
   "cell_type": "markdown",
   "metadata": {},
   "source": [
    "# Game Developer"
   ]
  },
  {
   "cell_type": "code",
   "execution_count": 2,
   "metadata": {},
   "outputs": [],
   "source": [
    "!pip install crewai"
   ]
  },
  {
   "cell_type": "code",
   "execution_count": null,
   "metadata": {},
   "outputs": [],
   "source": [
    "from crewai import Agent, Task, Crew, Process"
   ]
  },
  {
   "cell_type": "code",
   "execution_count": 16,
   "metadata": {},
   "outputs": [],
   "source": [
    "researcher = Agent(\n",
    "  role='Senior Research Analyst',\n",
    "  goal='Uncover cutting-edge developments in game development and gaming industry in general',\n",
    "  backstory=\"\"\"You work at a leading Gaming company.\n",
    "  Your expertise lies in identifying emerging trends in game development.\n",
    "  You have a knack for dissecting complex data and presenting actionable insights.\"\"\",\n",
    "  verbose=True,\n",
    "  allow_delegation=False,\n",
    "  tools=[serper_tool],\n",
    "  llm = llm\n",
    ")\n",
    "\n",
    "\n",
    "story_teller = Agent(\n",
    "  role='Story creator for game plot',\n",
    "  goal='Craft engaging and appealing stories, plots and logics for game development',\n",
    "  backstory=\"\"\"You are a renowned Story Creator, known for your insightful and engaging plots behind the most successful games.\n",
    "  You produce short, engaging stories and logics behind simple games.\"\"\",\n",
    "  verbose=True,\n",
    "  allow_delegation=True,\n",
    "  llm = llm\n",
    ")\n",
    "\n",
    "architect = Agent(\n",
    "  role='Architect for game mechanics',\n",
    "  goal='Describe the mechanics behind the logic of a game',\n",
    "  backstory=\"\"\"You are a renowned game architect, known for your ability in describing in details the mechanics behind successful games.\"\"\",\n",
    "  verbose=True,\n",
    "  allow_delegation=True,\n",
    "  llm = llm\n",
    ")\n",
    "\n",
    "senior_engineer = Agent(\n",
    "  role='Senior Software Engineer',\n",
    "  goal='Create software as needed',\n",
    "  backstory=\"\"\"You are a Senior Software Engineer at a leading Gaming company. Your expertise in programming in python. and do your best toproduce perfect code\"\"\",\n",
    "  verbose=True,\n",
    "  allow_delegation=True,\n",
    "  llm = llm\n",
    ")\n",
    "\n",
    "qa_engineer = Agent(\n",
    "  role='Software Quality Control Engineer',\n",
    "  goal='create prefect code, by analizing the code that is given for errors',\n",
    "  backstory=\"\"\"You are a software engineer that specializes in checking code for errors. \n",
    "  You have an eye for detail and a knack for finding hidden bugs. Your expertise in programming in python. \n",
    "  You check for missing imports, variable declarations, mismatched brackets and syntax errors.\n",
    "  You also check for security vulnerabilities, and logic errors\"\"\",\n",
    "  verbose=True,\n",
    "  allow_delegation=True,\n",
    "  llm = llm\n",
    ")"
   ]
  },
  {
   "cell_type": "code",
   "execution_count": 17,
   "metadata": {},
   "outputs": [],
   "source": [
    "# Create tasks for your agents\n",
    "analyst_task = Task(\n",
    "  description=\"\"\"Conduct a comprehensive analysis of the most popular videogame in 2024.\n",
    "  Identify key trends, breakthrough technologies, and potential industry impacts.\"\"\",\n",
    "  expected_output=\"List of the top 3 relevant trends with a brief description\",\n",
    "  agent=researcher,\n",
    "  llm = llm\n",
    ")\n",
    "\n",
    "story_task = Task(\n",
    "  description=\"\"\"Using the insights provided, develop the logic (wins, losts, achievements etc) of a videogame with an engaging story. \n",
    "  You should refer to the trending elements emerged from the insights provided, yet develop a unique story and game design to cover whitespaces in the gaming market.\"\"\",\n",
    "  expected_output=\"Detailed description of game history and logic\",\n",
    "  agent=story_teller\n",
    ")\n",
    "\n",
    "architecture_task = Task(\n",
    "  description=\"\"\"Using the game story and logic provided, describe the character control mechanics for a first-person experience.\"\"\",\n",
    "  expected_output=\"Detailed description of character control mechanics\",\n",
    "  agent=architect\n",
    ")\n",
    "\n",
    "code_task = Task(\n",
    "  description=\"\"\"Using the architecture provided, you will create the game using python.\"\"\",\n",
    "  expected_output=\"Full python code, only the python code and nothing else.\",\n",
    "  agent=senior_engineer\n",
    ")\n",
    "\n",
    "review_task = Task(\n",
    "  description=\"\"\"Using the code you got, check for errors. Check for logic errors,\n",
    "\t\t\tsyntax errors, missing imports, variable declarations, mismatched brackets,\n",
    "\t\t\tand security vulnerabilities.\"\"\",\n",
    "  expected_output=\"Full python code, only the python code and nothing else.\",\n",
    "  agent=qa_engineer\n",
    ")\n",
    "\n"
   ]
  },
  {
   "cell_type": "code",
   "execution_count": 3,
   "metadata": {},
   "outputs": [],
   "source": [
    "# Instantiate your crew with a sequential process\n",
    "crew = Crew(\n",
    "  agents=[researcher, story_teller, architect, senior_engineer, qa_engineer],\n",
    "  tasks=[analyst_task, story_task, architecture_task, code_task, review_task],\n",
    "  verbose=2, # You can set it to 1 or 2 to different logging levels\n",
    ")\n",
    "\n",
    "# Get your crew to work!\n",
    "result = crew.kickoff()\n",
    "\n",
    "print(\"######################\")"
   ]
  }
 ],
 "metadata": {
  "kernelspec": {
   "display_name": "Python 3 (ipykernel)",
   "language": "python",
   "name": "python3"
  },
  "language_info": {
   "codemirror_mode": {
    "name": "ipython",
    "version": 3
   },
   "file_extension": ".py",
   "mimetype": "text/x-python",
   "name": "python",
   "nbconvert_exporter": "python",
   "pygments_lexer": "ipython3",
   "version": "3.12.3"
  }
 },
 "nbformat": 4,
 "nbformat_minor": 2
}
